{
 "cells": [
  {
   "cell_type": "markdown",
   "metadata": {},
   "source": [
    "# Tarea 3. Midiendo rendimiento y riesgo.\n",
    "\n",
    "<img style=\"float: right; margin: 0px 0px 15px 15px;\" src=\"https://www.maxpixel.net/static/photo/1x/Wall-Street-Dices-Over-Newspaper-Profit-Loss-Risk-2656028.jpg\" width=\"600px\" height=\"400px\" />\n",
    "\n",
    "**Resumen.**\n",
    "> En esta tarea descargarás datos históricos de precios y, con base en ellos, calcularás rendimientos. Luego se te pedirá resumir la distribución de rendimientos para cada instrumento calculando el rendimiento medio y volatilidad. De igual manera, se te pedirá presentar dicho resumen en una base anual.\n",
    "\n",
    "**Criterio de revisión.**\n",
    "> Se te calificará de acuerdo a los resultados finales que reportes, basados en tu análisis.\n",
    "\n",
    "**Antes de comenzar.**\n",
    "> Por favor, copiar y pegar este archivo en otra ubicación. Antes de comenzar, nombrarlo *Tarea3_ApellidoNombre*, sin acentos y sin espacios; por ejemplo, en mi caso el archivo se llamaría *Tarea3_JimenezEsteban*. Resolver todos los puntos en dicho archivo y subir en este espacio."
   ]
  },
  {
   "cell_type": "markdown",
   "metadata": {},
   "source": [
    "## 1. Descarga de datos (20 puntos)\n",
    "\n",
    "Descargar los precios diarios ajustados en el cierre para el índice S&P 500 (^GSPC), Microsoft (MSFT), Walgreens (WBA), y Tesla Motors (TSLA) durante el periodo comprendido del primero de enero del 2011 hasta el 31 de diciembre del 2015.\n",
    "\n",
    "1. Mostrar el DataFrame de los precios diarios (10 puntos).\n",
    "2. Graficar los precios (10 puntos)."
   ]
  },
  {
   "cell_type": "code",
   "execution_count": 51,
   "metadata": {},
   "outputs": [],
   "source": [
    "import pandas as pd\n",
    "import matplotlib.pyplot as plt\n",
    "import numpy as np"
   ]
  },
  {
   "cell_type": "code",
   "execution_count": 22,
   "metadata": {},
   "outputs": [],
   "source": [
    "docs = ['^GSPC','MSFT','WBA','TSLA']\n",
    "def read_AdjClose(docs):\n",
    "    res = pd.read_csv(docs[0]+'.csv',index_col='Date')['Adj Close']\n",
    "    for i in range(len(docs)-1): \n",
    "        a = pd.read_csv(docs[i+1]+'.csv',index_col='Date')\n",
    "        res = pd.concat([res,a['Adj Close']],axis=1)\n",
    "    res.columns = docs\n",
    "    return(res)\n",
    "\n"
   ]
  },
  {
   "cell_type": "code",
   "execution_count": 23,
   "metadata": {},
   "outputs": [
    {
     "data": {
      "text/html": [
       "<div>\n",
       "<style scoped>\n",
       "    .dataframe tbody tr th:only-of-type {\n",
       "        vertical-align: middle;\n",
       "    }\n",
       "\n",
       "    .dataframe tbody tr th {\n",
       "        vertical-align: top;\n",
       "    }\n",
       "\n",
       "    .dataframe thead th {\n",
       "        text-align: right;\n",
       "    }\n",
       "</style>\n",
       "<table border=\"1\" class=\"dataframe\">\n",
       "  <thead>\n",
       "    <tr style=\"text-align: right;\">\n",
       "      <th></th>\n",
       "      <th>^GSPC</th>\n",
       "      <th>MSFT</th>\n",
       "      <th>WBA</th>\n",
       "      <th>TSLA</th>\n",
       "    </tr>\n",
       "    <tr>\n",
       "      <th>Date</th>\n",
       "      <th></th>\n",
       "      <th></th>\n",
       "      <th></th>\n",
       "      <th></th>\n",
       "    </tr>\n",
       "  </thead>\n",
       "  <tbody>\n",
       "    <tr>\n",
       "      <th>2011-01-03</th>\n",
       "      <td>1271.869995</td>\n",
       "      <td>22.558224</td>\n",
       "      <td>32.173080</td>\n",
       "      <td>26.620001</td>\n",
       "    </tr>\n",
       "    <tr>\n",
       "      <th>2011-01-04</th>\n",
       "      <td>1270.199951</td>\n",
       "      <td>22.646908</td>\n",
       "      <td>32.443100</td>\n",
       "      <td>26.670000</td>\n",
       "    </tr>\n",
       "    <tr>\n",
       "      <th>2011-01-05</th>\n",
       "      <td>1276.560059</td>\n",
       "      <td>22.574345</td>\n",
       "      <td>32.893124</td>\n",
       "      <td>26.830000</td>\n",
       "    </tr>\n",
       "    <tr>\n",
       "      <th>2011-01-06</th>\n",
       "      <td>1273.849976</td>\n",
       "      <td>23.235449</td>\n",
       "      <td>32.991314</td>\n",
       "      <td>27.879999</td>\n",
       "    </tr>\n",
       "    <tr>\n",
       "      <th>2011-01-07</th>\n",
       "      <td>1271.500000</td>\n",
       "      <td>23.058081</td>\n",
       "      <td>32.794937</td>\n",
       "      <td>28.240000</td>\n",
       "    </tr>\n",
       "  </tbody>\n",
       "</table>\n",
       "</div>"
      ],
      "text/plain": [
       "                  ^GSPC       MSFT        WBA       TSLA\n",
       "Date                                                    \n",
       "2011-01-03  1271.869995  22.558224  32.173080  26.620001\n",
       "2011-01-04  1270.199951  22.646908  32.443100  26.670000\n",
       "2011-01-05  1276.560059  22.574345  32.893124  26.830000\n",
       "2011-01-06  1273.849976  23.235449  32.991314  27.879999\n",
       "2011-01-07  1271.500000  23.058081  32.794937  28.240000"
      ]
     },
     "execution_count": 23,
     "metadata": {},
     "output_type": "execute_result"
    }
   ],
   "source": [
    "Adj = read_AdjClose(docs)\n",
    "Adj.head()"
   ]
  },
  {
   "cell_type": "code",
   "execution_count": 24,
   "metadata": {},
   "outputs": [
    {
     "data": {
      "image/png": "[encoded data removed]",
      "text/plain": [
       "<Figure size 432x288 with 1 Axes>"
      ]
     },
     "metadata": {},
     "output_type": "display_data"
    }
   ],
   "source": [
    "Adj.plot();"
   ]
  },
  {
   "cell_type": "markdown",
   "metadata": {},
   "source": [
    "## 2. Cálculo de rendimientos diarios (20 puntos)\n",
    "\n",
    "A partir de los precios que descargaste en el anterior punto, calcular los rendimientos porcentuales diarios.\n",
    "\n",
    "1. Mostrar el DataFrame de los rendimientos porcentuales diarios (10 puntos).\n",
    "2. Graficar los rendimientos (10 puntos)."
   ]
  },
  {
   "cell_type": "code",
   "execution_count": 26,
   "metadata": {},
   "outputs": [
    {
     "data": {
      "text/html": [
       "<div>\n",
       "<style scoped>\n",
       "    .dataframe tbody tr th:only-of-type {\n",
       "        vertical-align: middle;\n",
       "    }\n",
       "\n",
       "    .dataframe tbody tr th {\n",
       "        vertical-align: top;\n",
       "    }\n",
       "\n",
       "    .dataframe thead th {\n",
       "        text-align: right;\n",
       "    }\n",
       "</style>\n",
       "<table border=\"1\" class=\"dataframe\">\n",
       "  <thead>\n",
       "    <tr style=\"text-align: right;\">\n",
       "      <th></th>\n",
       "      <th>^GSPC</th>\n",
       "      <th>MSFT</th>\n",
       "      <th>WBA</th>\n",
       "      <th>TSLA</th>\n",
       "    </tr>\n",
       "    <tr>\n",
       "      <th>Date</th>\n",
       "      <th></th>\n",
       "      <th></th>\n",
       "      <th></th>\n",
       "      <th></th>\n",
       "    </tr>\n",
       "  </thead>\n",
       "  <tbody>\n",
       "    <tr>\n",
       "      <th>2011-01-04</th>\n",
       "      <td>-0.001313</td>\n",
       "      <td>0.003931</td>\n",
       "      <td>0.008393</td>\n",
       "      <td>0.001878</td>\n",
       "    </tr>\n",
       "    <tr>\n",
       "      <th>2011-01-05</th>\n",
       "      <td>0.005007</td>\n",
       "      <td>-0.003204</td>\n",
       "      <td>0.013871</td>\n",
       "      <td>0.005999</td>\n",
       "    </tr>\n",
       "    <tr>\n",
       "      <th>2011-01-06</th>\n",
       "      <td>-0.002123</td>\n",
       "      <td>0.029286</td>\n",
       "      <td>0.002985</td>\n",
       "      <td>0.039135</td>\n",
       "    </tr>\n",
       "    <tr>\n",
       "      <th>2011-01-07</th>\n",
       "      <td>-0.001845</td>\n",
       "      <td>-0.007634</td>\n",
       "      <td>-0.005952</td>\n",
       "      <td>0.012913</td>\n",
       "    </tr>\n",
       "    <tr>\n",
       "      <th>2011-01-10</th>\n",
       "      <td>-0.001376</td>\n",
       "      <td>-0.013287</td>\n",
       "      <td>0.021707</td>\n",
       "      <td>0.007436</td>\n",
       "    </tr>\n",
       "  </tbody>\n",
       "</table>\n",
       "</div>"
      ],
      "text/plain": [
       "               ^GSPC      MSFT       WBA      TSLA\n",
       "Date                                              \n",
       "2011-01-04 -0.001313  0.003931  0.008393  0.001878\n",
       "2011-01-05  0.005007 -0.003204  0.013871  0.005999\n",
       "2011-01-06 -0.002123  0.029286  0.002985  0.039135\n",
       "2011-01-07 -0.001845 -0.007634 -0.005952  0.012913\n",
       "2011-01-10 -0.001376 -0.013287  0.021707  0.007436"
      ]
     },
     "execution_count": 26,
     "metadata": {},
     "output_type": "execute_result"
    }
   ],
   "source": [
    "pct = Adj.pct_change().dropna()\n",
    "pct.head()"
   ]
  },
  {
   "cell_type": "code",
   "execution_count": 27,
   "metadata": {},
   "outputs": [
    {
     "data": {
      "image/png": "[encoded data removed]",
      "text/plain": [
       "<Figure size 432x288 with 1 Axes>"
      ]
     },
     "metadata": {},
     "output_type": "display_data"
    }
   ],
   "source": [
    "pct.plot();"
   ]
  },
  {
   "cell_type": "markdown",
   "metadata": {},
   "source": [
    "## 3. Resumen de distribución de rendimientos (30 puntos)\n",
    "\n",
    "Con base en los rendimientos que calculaste en el punto anterior:\n",
    "\n",
    "1. Calcular el rendimiento medio diario para el índice S&P 500 y para los demás activos. Anualizar los rendimientos (15 puntos). \n",
    "\n",
    "2. Calcular la volatilidad diaria para el índice S&P 500 y para los demás activos. Anualizar (15 puntos).\n",
    "\n",
    "Por favor, reportar los resultados en DataFrames tal y como lo vimos en clase."
   ]
  },
  {
   "cell_type": "code",
   "execution_count": 33,
   "metadata": {},
   "outputs": [
    {
     "data": {
      "text/plain": [
       "^GSPC    0.108753\n",
       "MSFT     0.233887\n",
       "WBA      0.097182\n",
       "TSLA     0.375498\n",
       "dtype: float64"
      ]
     },
     "execution_count": 33,
     "metadata": {},
     "output_type": "execute_result"
    }
   ],
   "source": [
    "pct_mean = pct.mean()*252\n",
    "pct_mean"
   ]
  },
  {
   "cell_type": "code",
   "execution_count": 94,
   "metadata": {},
   "outputs": [
    {
     "data": {
      "text/plain": [
       "^GSPC    0.145166\n",
       "MSFT     0.230503\n",
       "WBA      0.249818\n",
       "TSLA     0.500087\n",
       "dtype: float64"
      ]
     },
     "execution_count": 94,
     "metadata": {},
     "output_type": "execute_result"
    }
   ],
   "source": [
    "pct_std = pct.std()*252**(1/2)\n",
    "pct_std"
   ]
  },
  {
   "cell_type": "code",
   "execution_count": 37,
   "metadata": {},
   "outputs": [
    {
     "data": {
      "text/html": [
       "<div>\n",
       "<style scoped>\n",
       "    .dataframe tbody tr th:only-of-type {\n",
       "        vertical-align: middle;\n",
       "    }\n",
       "\n",
       "    .dataframe tbody tr th {\n",
       "        vertical-align: top;\n",
       "    }\n",
       "\n",
       "    .dataframe thead th {\n",
       "        text-align: right;\n",
       "    }\n",
       "</style>\n",
       "<table border=\"1\" class=\"dataframe\">\n",
       "  <thead>\n",
       "    <tr style=\"text-align: right;\">\n",
       "      <th></th>\n",
       "      <th>^GSPC</th>\n",
       "      <th>MSFT</th>\n",
       "      <th>WBA</th>\n",
       "      <th>TSLA</th>\n",
       "    </tr>\n",
       "  </thead>\n",
       "  <tbody>\n",
       "    <tr>\n",
       "      <th>mean</th>\n",
       "      <td>0.108753</td>\n",
       "      <td>0.233887</td>\n",
       "      <td>0.097182</td>\n",
       "      <td>0.375498</td>\n",
       "    </tr>\n",
       "    <tr>\n",
       "      <th>std</th>\n",
       "      <td>0.145166</td>\n",
       "      <td>0.230503</td>\n",
       "      <td>0.249818</td>\n",
       "      <td>0.500087</td>\n",
       "    </tr>\n",
       "  </tbody>\n",
       "</table>\n",
       "</div>"
      ],
      "text/plain": [
       "         ^GSPC      MSFT       WBA      TSLA\n",
       "mean  0.108753  0.233887  0.097182  0.375498\n",
       "std   0.145166  0.230503  0.249818  0.500087"
      ]
     },
     "execution_count": 37,
     "metadata": {},
     "output_type": "execute_result"
    }
   ],
   "source": [
    "pd.DataFrame([pct_mean,pct_std],index=['mean','std'])"
   ]
  },
  {
   "cell_type": "markdown",
   "metadata": {},
   "source": [
    "## 4. Gráfico rendimientos esperados vs. volatilidad (30 puntos)\n",
    "\n",
    "Graficar los rendimientos medios anuales contra las desviaciones estándar del índice S&P 500 y de los demás activos. Como vimos en clase, la volatilidad debe ir en el eje $x$ y el rendimiento esperado en el eje $y$. Se deben etiquetar los ejes y dar detalles para un completo entendimiento de la gráfica.\n",
    "\n",
    "1. Gráfico (10 puntos).\n",
    "2. Ajuste una línea recta a los puntos obtenidos. Dar la ecuación (10 puntos).\n",
    "3. A partir del gráfico y de la línea recta ajustada, concluya acerca de la relación rendimiento/riesgo (10 puntos).\n",
    "\n",
    "*Nota:* el ajuste de la línea recta corresponde a una regresión lineal. Si no saben como hacerlo, por favor preguntar en asesoría."
   ]
  },
  {
   "cell_type": "code",
   "execution_count": 48,
   "metadata": {},
   "outputs": [
    {
     "data": {
      "image/png": "[encoded data removed]",
      "text/plain": [
       "<Figure size 432x288 with 1 Axes>"
      ]
     },
     "metadata": {},
     "output_type": "display_data"
    }
   ],
   "source": [
    "plt.scatter(pct_std,pct_mean)\n",
    "plt.xlabel('Volatilidad')\n",
    "plt.ylabel('Rendimiento')\n",
    "for i in range(len(docs)):\n",
    "    plt.text(pct_std.values[i],pct_mean.values[i],docs[i])"
   ]
  },
  {
   "cell_type": "code",
   "execution_count": 124,
   "metadata": {},
   "outputs": [
    {
     "data": {
      "text/plain": [
       "array([[1.        , 0.14516567],\n",
       "       [1.        , 0.23050322],\n",
       "       [1.        , 0.24981756],\n",
       "       [1.        , 0.5000874 ]])"
      ]
     },
     "execution_count": 124,
     "metadata": {},
     "output_type": "execute_result"
    }
   ],
   "source": [
    "A = np.ones([len(docs),2])\n",
    "A[:,1] = pct_std\n",
    "A"
   ]
  },
  {
   "cell_type": "code",
   "execution_count": 125,
   "metadata": {},
   "outputs": [
    {
     "data": {
      "text/plain": [
       "array([[0.10875262],\n",
       "       [0.23388727],\n",
       "       [0.09718176],\n",
       "       [0.37549844]])"
      ]
     },
     "execution_count": 125,
     "metadata": {},
     "output_type": "execute_result"
    }
   ],
   "source": [
    "B = np.ones([len(docs),1])\n",
    "B[:,0] = pct_mean\n",
    "B"
   ]
  },
  {
   "cell_type": "code",
   "execution_count": 147,
   "metadata": {},
   "outputs": [
    {
     "data": {
      "text/plain": [
       "array([[-0.00662791],\n",
       "       [ 0.74791336]])"
      ]
     },
     "execution_count": 147,
     "metadata": {},
     "output_type": "execute_result"
    }
   ],
   "source": [
    "REG = np.linalg.pinv(A.dot(A.T)).dot(A).T.dot(B) #mínimos cuadrados\n",
    "# REG = np.linalg.inv(A.dot(A.T)).dot(A).T.dot(B) #Originalmente se supone que se debe utilizar la inversa,\n",
    "# sin embargo, cuando se utilizaba este método salía una curva que no se asemejaba al resultado esperado. \n",
    "# Utilizando la pseudo-inversa se obtiene el resultado deseado. \n",
    "REG"
   ]
  },
  {
   "cell_type": "markdown",
   "metadata": {},
   "source": [
    "$B0 = -0.0066$, $B1 = 0.7479$\n",
    "\n",
    "recta: $-0.0066 + 0.7479x$"
   ]
  },
  {
   "cell_type": "code",
   "execution_count": 149,
   "metadata": {},
   "outputs": [
    {
     "data": {
      "text/plain": [
       "[<matplotlib.lines.Line2D at 0xb572160>]"
      ]
     },
     "execution_count": 149,
     "metadata": {},
     "output_type": "execute_result"
    },
    {
     "data": {
      "image/png": "[encoded data removed]",
      "text/plain": [
       "<Figure size 432x288 with 1 Axes>"
      ]
     },
     "metadata": {},
     "output_type": "display_data"
    }
   ],
   "source": [
    "plt.scatter(pct_std,pct_mean)\n",
    "plt.xlabel('Volatilidad')\n",
    "plt.ylabel('Rendimiento')\n",
    "for i in range(len(docs)):\n",
    "    plt.text(pct_std.values[i],pct_mean.values[i],docs[i])\n",
    "plt.plot([0,pct_std.max()],[REG[0],REG[0]+REG[1]*pct_std.max()])\n"
   ]
  },
  {
   "cell_type": "markdown",
   "metadata": {},
   "source": [
    "Para este conjunto de datos, cada unidad de riesgo proporciona .7479 unidades de rendimiento, es inverso a lo esperado, supongo que normalmente se preferirìa tomar un riesgo mayor si existe mayor rendimiento que riesgo. Por su parte, el intercepto de la recta con el eje de las 'y' (rendimiento) resulta ser negativo. Esto es poco lógico, puesto que si no se asume ningun riesgo se corre el riesgo de tener perdidas... no se si estas tengan que ver con medidas inflacionarias o su equivalente. También es importante recalcar que el intercepto es bastante cercano a 0, esto puede deberse a que el peso de TSLA ha ofrecido más rendimiento/volatilidad que el resto del mercado (o para este ejemplo las 3 acciones restantes) y debido al comportamiento de Tesla, la curva ajustada tiene un intercepto inesperado en el eje 'y'"
   ]
  },
  {
   "cell_type": "markdown",
   "metadata": {},
   "source": [
    "<script>\n",
    "  $(document).ready(function(){\n",
    "    $('div.prompt').hide();\n",
    "    $('div.back-to-top').hide();\n",
    "    $('nav#menubar').hide();\n",
    "    $('.breadcrumb').hide();\n",
    "    $('.hidden-print').hide();\n",
    "  });\n",
    "</script>\n",
    "\n",
    "<footer id=\"attribution\" style=\"float:right; color:#808080; background:#fff;\">\n",
    "Created with Jupyter by Esteban Jiménez Rodríguez.\n",
    "</footer>"
   ]
  }
 ],
 "metadata": {
  "kernelspec": {
   "display_name": "Python 3",
   "language": "python",
   "name": "python3"
  },
  "language_info": {
   "codemirror_mode": {
    "name": "ipython",
    "version": 3
   },
   "file_extension": ".py",
   "mimetype": "text/x-python",
   "name": "python",
   "nbconvert_exporter": "python",
   "pygments_lexer": "ipython3",
   "version": "3.7.1"
  }
 },
 "nbformat": 4,
 "nbformat_minor": 2
}
